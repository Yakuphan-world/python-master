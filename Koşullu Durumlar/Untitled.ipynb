{
 "cells": [
  {
   "cell_type": "code",
   "execution_count": null,
   "id": "67acf0ee",
   "metadata": {},
   "outputs": [],
   "source": [
    "islem=int(input(\"isleminiz seciniz:\"))\n",
    "\n",
    "if islem== 1:\n",
    "    print(\"1.ci islemi sectiniz\")\n",
    "elif islem== 2 :\n",
    "    print(\"2.ci islemi sectiniz\")\n",
    "elif islem==3 :\n",
    "    print(\"3.cü islemi sectiniz\")\n",
    "else :\n",
    "    print(\"dogru sayiyi giriniz\")"
   ]
  },
  {
   "cell_type": "code",
   "execution_count": null,
   "id": "7c56b377",
   "metadata": {},
   "outputs": [],
   "source": [
    "islem=int(input(\"isleminiz seciniz:\"))\n",
    "\n",
    "if islem== 1:\n",
    "    print(\"1.ci islemi sectiniz\")\n",
    "elif islem== 2 :\n",
    "    print(\"2.ci islemi sectiniz\")\n",
    "elif islem==3 :\n",
    "    print(\"3.cü islemi sectiniz\")\n",
    "else :\n",
    "    print(\"dogru sayiyi giriniz\")"
   ]
  },
  {
   "cell_type": "code",
   "execution_count": null,
   "id": "387090d6",
   "metadata": {},
   "outputs": [],
   "source": []
  }
 ],
 "metadata": {
  "kernelspec": {
   "display_name": "Python 3 (ipykernel)",
   "language": "python",
   "name": "python3"
  },
  "language_info": {
   "codemirror_mode": {
    "name": "ipython",
    "version": 3
   },
   "file_extension": ".py",
   "mimetype": "text/x-python",
   "name": "python",
   "nbconvert_exporter": "python",
   "pygments_lexer": "ipython3",
   "version": "3.10.7"
  }
 },
 "nbformat": 4,
 "nbformat_minor": 5
}
